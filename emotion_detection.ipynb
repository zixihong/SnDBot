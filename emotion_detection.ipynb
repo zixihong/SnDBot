{
 "cells": [
  {
   "cell_type": "code",
   "execution_count": null,
   "metadata": {},
   "outputs": [],
   "source": [
    "import cv2\n",
    "import matplotlib.pyplot as plt\n",
    "from deepface import DeepFace"
   ]
  },
  {
   "cell_type": "code",
   "execution_count": null,
   "metadata": {},
   "outputs": [],
   "source": [
    "class SnDBot:\n",
    "    def __init__(self, output_file=\"emotions.txt\"):\n",
    "        self.cap = None\n",
    "        self.output_file = output_file\n",
    "        with open(self.output_file, 'w', encoding='utf-8') as f: f.write(\"\")\n",
    "        self.face_cascade = cv2.CascadeClassifier(cv2.data.haarcascades + 'haarcascade_frontalface_default.xml')\n",
    "\n",
    "    def start_capture(self, source=\"video.mp4\"):\n",
    "        self.cap = cv2.VideoCapture(source)\n",
    "        if not self.cap.isOpened():\n",
    "            raise Exception(\"Error: Cannot open the camera or video file\")\n",
    "\n",
    "    def detect_emotion(self, frame):\n",
    "        try:\n",
    "            emotions = DeepFace.analyze(frame, actions=['emotion'])\n",
    "            if isinstance(emotions, list) and len(emotions) > 0:\n",
    "                dominant_emotion = max(emotions[0]['emotion'].items(), key=lambda x: x[1])\n",
    "                return dominant_emotion\n",
    "        except Exception as e:\n",
    "            pass\n",
    "        \n",
    "        return None\n",
    "    \n",
    "    def detect_face(self, frame):\n",
    "        gray = cv2.cvtColor(frame, cv2.COLOR_BGR2GRAY)\n",
    "        faces = self.face_cascade.detectMultiScale(gray, scaleFactor=1.1, minNeighbors=5, minSize=(30,30))\n",
    "        return faces\n",
    "    \n",
    "    def document(self, emotion):\n",
    "        timestamp = int(self.cap.get(cv2.CAP_PROP_POS_MSEC)) if self.cap is not None else 0\n",
    "        with open(self.output_file, 'a', encoding='utf-8') as f:\n",
    "            if emotion: f.write(f\"{timestamp} {emotion[0]} {emotion[1]:.2f}\\n\")\n",
    "            else: f.write(f\"{timestamp} .\\n\")\n",
    "\n",
    "    def process_frame(self, frame):\n",
    "        emotion = None\n",
    "        face_location = self.detect_face(frame)\n",
    "        \n",
    "        if face_location is not None:\n",
    "            x, y, w, h = face_location[0]\n",
    "            cv2.rectangle(frame, (x,y), (x+w, y+h), (0, 255, 0), 2)\n",
    "            \n",
    "            face = frame[y:y+h, x:x+w]\n",
    "            emotion = self.detect_emotion(face)\n",
    "\n",
    "            if emotion:\n",
    "                emotion_text = f\"{emotion[0]} ({emotion[1]:.2f})\"\n",
    "                cv2.putText(frame, emotion_text, (x, y-10), cv2.FONT_HERSHEY_SIMPLEX, 0.7, (0,255, 0), 2)\n",
    "                bar_length = int(emotion[1]*100)\n",
    "                #cv2.rectangle(frame, (x, y-30), (x+bar_length, y-20), (0, 255, 0), -1)\n",
    "\n",
    "        return frame, emotion\n",
    "    \n",
    "    def run(self):\n",
    "        if self.cap is None:\n",
    "            self.start_capture()\n",
    "        \n",
    "        while True:\n",
    "            ret, frame = self.cap.read()\n",
    "            if not ret:\n",
    "                break\n",
    "\n",
    "            processed_frame, current_emotion = self.process_frame(frame)\n",
    "            \n",
    "            cv2.imshow('Emotion Detection', processed_frame)\n",
    "\n",
    "            self.document(current_emotion)\n",
    "\n",
    "            if cv2.waitKey(1) & 0xFF == ord('q'):\n",
    "                break\n",
    "\n",
    "        self.cap.release()\n",
    "        cv2.destroyAllWindows()"
   ]
  },
  {
   "cell_type": "code",
   "execution_count": 3,
   "metadata": {},
   "outputs": [],
   "source": [
    "def main():\n",
    "    bot = SnDBot()\n",
    "    try:\n",
    "        bot.run()\n",
    "    except KeyboardInterrupt:\n",
    "        print(\"\\nStopping Emotion Detection Bot\")\n",
    "    except Exception as e:\n",
    "        print(f\"Error occured: {str(e)}\")\n",
    "    finally:\n",
    "        if hasattr(bot, 'cap') and bot.cap is not None:\n",
    "            bot.cap.release()\n",
    "        cv2.destroyAllWindows()\n",
    "\n",
    "if __name__ == \"__main__\":\n",
    "    main()"
   ]
  },
  {
   "cell_type": "code",
   "execution_count": null,
   "metadata": {},
   "outputs": [],
   "source": [
    "#img = cv2.imread('img2.jpg')\n",
    "#plt.imshow(img[:,:,: : -1])\n",
    "#plt.show()"
   ]
  },
  {
   "cell_type": "code",
   "execution_count": null,
   "metadata": {},
   "outputs": [],
   "source": [
    "#result = DeepFace.analyze(img, actions = ['emotion'])\n",
    "#dominant_emotion = max(result[0]['emotion'].items(), key=lambda x: x[1])\n",
    "#print(f\"{dominant_emotion[0]} {dominant_emotion[1]:.2f}\\n\")\n",
    "#print(result[0]['dominant_emotion'])"
   ]
  }
 ],
 "metadata": {
  "kernelspec": {
   "display_name": "Python 3",
   "language": "python",
   "name": "python3"
  },
  "language_info": {
   "codemirror_mode": {
    "name": "ipython",
    "version": 3
   },
   "file_extension": ".py",
   "mimetype": "text/x-python",
   "name": "python",
   "nbconvert_exporter": "python",
   "pygments_lexer": "ipython3",
   "version": "3.11.5"
  }
 },
 "nbformat": 4,
 "nbformat_minor": 2
}
